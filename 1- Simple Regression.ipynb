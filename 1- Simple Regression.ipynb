{
 "cells": [
  {
   "cell_type": "markdown",
   "metadata": {
    "button": false,
    "deletable": true,
    "new_sheet": false,
    "run_control": {
     "read_only": false
    }
   },
   "source": [
    "<a href=\"https://www.bigdatauniversity.com\"><img src = \"https://ibm.box.com/shared/static/cw2c7r3o20w9zn8gkecaeyjhgw3xdgbj.png\" width = 400, align = \"center\"></a>\n",
    "\n",
    "# <center>Simple Linear Regression</center>\n",
    "\n",
    "\n",
    "#### About this Notebook\n",
    "In this notebook, we learn how to use scikit-learn to implement simple linear regression. We download a dataset that is related to fuel consumption and Carbon dioxide emission of cars. Then, we split our data into training and test sets, create a model using training set, Evaluate your model using test set, and finally use model to predict unknown value\n"
   ]
  },
  {
   "cell_type": "markdown",
   "metadata": {
    "button": false,
    "deletable": true,
    "new_sheet": false,
    "run_control": {
     "read_only": false
    }
   },
   "source": [
    "### Importing Needed packages"
   ]
  },
  {
   "cell_type": "code",
   "execution_count": 1,
   "metadata": {
    "button": false,
    "collapsed": true,
    "deletable": true,
    "new_sheet": false,
    "run_control": {
     "read_only": false
    }
   },
   "outputs": [],
   "source": [
    "import matplotlib.pyplot as plt\n",
    "import pandas as pd\n",
    "import pylab as pl\n",
    "import numpy as np\n",
    "%matplotlib inline"
   ]
  },
  {
   "cell_type": "markdown",
   "metadata": {
    "button": false,
    "deletable": true,
    "new_sheet": false,
    "run_control": {
     "read_only": false
    }
   },
   "source": [
    "### Downloading Data\n",
    "To download the data, we will use !wget to download it from IBM Object Storage."
   ]
  },
  {
   "cell_type": "code",
   "execution_count": 2,
   "metadata": {
    "button": false,
    "collapsed": true,
    "deletable": true,
    "new_sheet": false,
    "run_control": {
     "read_only": false
    }
   },
   "outputs": [
    {
     "name": "stdout",
     "output_type": "stream",
     "text": [
      "--2019-01-10 19:45:01--  https://s3-api.us-geo.objectstorage.softlayer.net/cf-courses-data/CognitiveClass/ML0101ENv3/labs/FuelConsumptionCo2.csv\n",
      "Resolving s3-api.us-geo.objectstorage.softlayer.net (s3-api.us-geo.objectstorage.softlayer.net)... 67.228.254.193\n",
      "Connecting to s3-api.us-geo.objectstorage.softlayer.net (s3-api.us-geo.objectstorage.softlayer.net)|67.228.254.193|:443... connected.\n",
      "HTTP request sent, awaiting response... 200 OK\n",
      "Length: 72629 (71K) [text/csv]\n",
      "Saving to: ‘FuelConsumption.csv’\n",
      "\n",
      "FuelConsumption.csv 100%[=====================>]  70.93K  --.-KB/s   in 0.04s  \n",
      "\n",
      "2019-01-10 19:45:01 (1.64 MB/s) - ‘FuelConsumption.csv’ saved [72629/72629]\n",
      "\n"
     ]
    }
   ],
   "source": [
    "!wget -O FuelConsumption.csv https://s3-api.us-geo.objectstorage.softlayer.net/cf-courses-data/CognitiveClass/ML0101ENv3/labs/FuelConsumptionCo2.csv"
   ]
  },
  {
   "cell_type": "markdown",
   "metadata": {},
   "source": [
    "__Did you know?__ When it comes to Machine Learning, you will likely be working with large datasets. As a business, where can you host your data? IBM is offering a unique opportunity for businesses, with 10 Tb of IBM Cloud Object Storage: [Sign up now for free](http://cocl.us/ML0101EN-IBM-Offer-CC)"
   ]
  },
  {
   "cell_type": "markdown",
   "metadata": {
    "button": false,
    "deletable": true,
    "new_sheet": false,
    "run_control": {
     "read_only": false
    }
   },
   "source": [
    "\n",
    "## Understanding the Data\n",
    "\n",
    "### `FuelConsumption.csv`:\n",
    "We have downloaded a fuel consumption dataset, **`FuelConsumption.csv`**, which contains model-specific fuel consumption ratings and estimated carbon dioxide emissions for new light-duty vehicles for retail sale in Canada. [Dataset source](http://open.canada.ca/data/en/dataset/98f1a129-f628-4ce4-b24d-6f16bf24dd64)\n",
    "\n",
    "- **MODELYEAR** e.g. 2014\n",
    "- **MAKE** e.g. Acura\n",
    "- **MODEL** e.g. ILX\n",
    "- **VEHICLE CLASS** e.g. SUV\n",
    "- **ENGINE SIZE** e.g. 4.7\n",
    "- **CYLINDERS** e.g 6\n",
    "- **TRANSMISSION** e.g. A6\n",
    "- **FUEL CONSUMPTION in CITY(L/100 km)** e.g. 9.9\n",
    "- **FUEL CONSUMPTION in HWY (L/100 km)** e.g. 8.9\n",
    "- **FUEL CONSUMPTION COMB (L/100 km)** e.g. 9.2\n",
    "- **CO2 EMISSIONS (g/km)** e.g. 182   --> low --> 0\n"
   ]
  },
  {
   "cell_type": "markdown",
   "metadata": {
    "button": false,
    "deletable": true,
    "new_sheet": false,
    "run_control": {
     "read_only": false
    }
   },
   "source": [
    "## Reading the data in"
   ]
  },
  {
   "cell_type": "code",
   "execution_count": 6,
   "metadata": {
    "button": false,
    "collapsed": true,
    "deletable": true,
    "new_sheet": false,
    "run_control": {
     "read_only": false
    }
   },
   "outputs": [
    {
     "data": {
      "text/plain": [
       "<bound method NDFrame.head of       MODELYEAR          MAKE                        MODEL    VEHICLECLASS  \\\n",
       "0          2014         ACURA                          ILX         COMPACT   \n",
       "1          2014         ACURA                          ILX         COMPACT   \n",
       "2          2014         ACURA                   ILX HYBRID         COMPACT   \n",
       "3          2014         ACURA                      MDX 4WD     SUV - SMALL   \n",
       "4          2014         ACURA                      RDX AWD     SUV - SMALL   \n",
       "5          2014         ACURA                          RLX        MID-SIZE   \n",
       "6          2014         ACURA                           TL        MID-SIZE   \n",
       "7          2014         ACURA                       TL AWD        MID-SIZE   \n",
       "8          2014         ACURA                       TL AWD        MID-SIZE   \n",
       "9          2014         ACURA                          TSX         COMPACT   \n",
       "10         2014         ACURA                          TSX         COMPACT   \n",
       "11         2014         ACURA                          TSX         COMPACT   \n",
       "12         2014  ASTON MARTIN                          DB9     MINICOMPACT   \n",
       "13         2014  ASTON MARTIN                       RAPIDE      SUBCOMPACT   \n",
       "14         2014  ASTON MARTIN                   V8 VANTAGE      TWO-SEATER   \n",
       "15         2014  ASTON MARTIN                   V8 VANTAGE      TWO-SEATER   \n",
       "16         2014  ASTON MARTIN                 V8 VANTAGE S      TWO-SEATER   \n",
       "17         2014  ASTON MARTIN                 V8 VANTAGE S      TWO-SEATER   \n",
       "18         2014  ASTON MARTIN                     VANQUISH     MINICOMPACT   \n",
       "19         2014          AUDI                           A4         COMPACT   \n",
       "20         2014          AUDI                   A4 QUATTRO         COMPACT   \n",
       "21         2014          AUDI                   A4 QUATTRO         COMPACT   \n",
       "22         2014          AUDI         A5 CABRIOLET QUATTRO      SUBCOMPACT   \n",
       "23         2014          AUDI                   A5 QUATTRO      SUBCOMPACT   \n",
       "24         2014          AUDI                   A5 QUATTRO      SUBCOMPACT   \n",
       "25         2014          AUDI                   A6 QUATTRO        MID-SIZE   \n",
       "26         2014          AUDI                   A6 QUATTRO        MID-SIZE   \n",
       "27         2014          AUDI  A6 QUATTRO TDI CLEAN DIESEL        MID-SIZE   \n",
       "28         2014          AUDI                   A7 QUATTRO        MID-SIZE   \n",
       "29         2014          AUDI  A7 QUATTRO TDI CLEAN DIESEL        MID-SIZE   \n",
       "...         ...           ...                          ...             ...   \n",
       "1037       2014    VOLKSWAGEN                        JETTA         COMPACT   \n",
       "1038       2014    VOLKSWAGEN                    JETTA GLI         COMPACT   \n",
       "1039       2014    VOLKSWAGEN                    JETTA GLI         COMPACT   \n",
       "1040       2014    VOLKSWAGEN       JETTA TDI CLEAN DIESEL         COMPACT   \n",
       "1041       2014    VOLKSWAGEN       JETTA TDI CLEAN DIESEL         COMPACT   \n",
       "1042       2014    VOLKSWAGEN           JETTA TURBO HYBRID         COMPACT   \n",
       "1043       2014    VOLKSWAGEN                       PASSAT        MID-SIZE   \n",
       "1044       2014    VOLKSWAGEN                       PASSAT        MID-SIZE   \n",
       "1045       2014    VOLKSWAGEN                       PASSAT        MID-SIZE   \n",
       "1046       2014    VOLKSWAGEN                       PASSAT        MID-SIZE   \n",
       "1047       2014    VOLKSWAGEN                       PASSAT        MID-SIZE   \n",
       "1048       2014    VOLKSWAGEN      PASSAT TDI CLEAN DIESEL        MID-SIZE   \n",
       "1049       2014    VOLKSWAGEN      PASSAT TDI CLEAN DIESEL        MID-SIZE   \n",
       "1050       2014    VOLKSWAGEN                       ROUTAN         MINIVAN   \n",
       "1051       2014    VOLKSWAGEN                       TIGUAN     SUV - SMALL   \n",
       "1052       2014    VOLKSWAGEN                       TIGUAN     SUV - SMALL   \n",
       "1053       2014    VOLKSWAGEN               TIGUAN 4MOTION     SUV - SMALL   \n",
       "1054       2014    VOLKSWAGEN                      TOUAREG  SUV - STANDARD   \n",
       "1055       2014    VOLKSWAGEN     TOUAREG TDI CLEAN DIESEL  SUV - STANDARD   \n",
       "1056       2014         VOLVO                          S60         COMPACT   \n",
       "1057       2014         VOLVO                      S60 AWD         COMPACT   \n",
       "1058       2014         VOLVO                      S60 AWD         COMPACT   \n",
       "1059       2014         VOLVO                          S80        MID-SIZE   \n",
       "1060       2014         VOLVO                      S80 AWD        MID-SIZE   \n",
       "1061       2014         VOLVO                         XC60     SUV - SMALL   \n",
       "1062       2014         VOLVO                     XC60 AWD     SUV - SMALL   \n",
       "1063       2014         VOLVO                     XC60 AWD     SUV - SMALL   \n",
       "1064       2014         VOLVO                     XC70 AWD     SUV - SMALL   \n",
       "1065       2014         VOLVO                     XC70 AWD     SUV - SMALL   \n",
       "1066       2014         VOLVO                     XC90 AWD  SUV - STANDARD   \n",
       "\n",
       "      ENGINESIZE  CYLINDERS TRANSMISSION FUELTYPE  FUELCONSUMPTION_CITY  \\\n",
       "0            2.0          4          AS5        Z                   9.9   \n",
       "1            2.4          4           M6        Z                  11.2   \n",
       "2            1.5          4          AV7        Z                   6.0   \n",
       "3            3.5          6          AS6        Z                  12.7   \n",
       "4            3.5          6          AS6        Z                  12.1   \n",
       "5            3.5          6          AS6        Z                  11.9   \n",
       "6            3.5          6          AS6        Z                  11.8   \n",
       "7            3.7          6          AS6        Z                  12.8   \n",
       "8            3.7          6           M6        Z                  13.4   \n",
       "9            2.4          4          AS5        Z                  10.6   \n",
       "10           2.4          4           M6        Z                  11.2   \n",
       "11           3.5          6          AS5        Z                  12.1   \n",
       "12           5.9         12           A6        Z                  18.0   \n",
       "13           5.9         12           A6        Z                  18.0   \n",
       "14           4.7          8          AM7        Z                  17.4   \n",
       "15           4.7          8           M6        Z                  18.1   \n",
       "16           4.7          8          AM7        Z                  17.4   \n",
       "17           4.7          8           M6        Z                  18.1   \n",
       "18           5.9         12           A6        Z                  18.0   \n",
       "19           2.0          4          AV8        Z                   9.9   \n",
       "20           2.0          4          AS8        Z                  11.5   \n",
       "21           2.0          4           M6        Z                  10.8   \n",
       "22           2.0          4          AS8        Z                  11.5   \n",
       "23           2.0          4          AS8        Z                  11.5   \n",
       "24           2.0          4           M6        Z                  10.8   \n",
       "25           2.0          4          AS8        Z                  12.0   \n",
       "26           3.0          6          AS8        Z                  12.8   \n",
       "27           3.0          6          AS8        D                   9.8   \n",
       "28           3.0          6          AS8        Z                  13.1   \n",
       "29           3.0          6          AS8        D                   9.8   \n",
       "...          ...        ...          ...      ...                   ...   \n",
       "1037         2.0          4           M5        X                  10.4   \n",
       "1038         2.0          4           A6        Z                  10.2   \n",
       "1039         2.0          4           M6        Z                  10.6   \n",
       "1040         2.0          4           A6        D                   7.9   \n",
       "1041         2.0          4           M6        D                   7.9   \n",
       "1042         1.4          4          AM7        Z                   5.6   \n",
       "1043         1.8          4           A6        X                   9.9   \n",
       "1044         1.8          4           M5        X                  10.0   \n",
       "1045         2.5          5           A6        X                  11.0   \n",
       "1046         2.5          5           M5        X                  11.4   \n",
       "1047         3.6          6           A6        Z                  12.4   \n",
       "1048         2.0          4           A6        D                   8.1   \n",
       "1049         2.0          4           M6        D                   8.0   \n",
       "1050         3.6          6           A6        X                  14.2   \n",
       "1051         2.0          4           A6        Z                  11.7   \n",
       "1052         2.0          4           M6        Z                  13.6   \n",
       "1053         2.0          4           A6        Z                  11.7   \n",
       "1054         3.6          6          AS8        Z                  13.8   \n",
       "1055         3.0          6          AS8        D                  12.3   \n",
       "1056         2.5          5          AS6        X                  11.3   \n",
       "1057         2.5          5          AS6        X                  11.6   \n",
       "1058         3.0          6          AS6        X                  13.2   \n",
       "1059         3.2          6          AS6        X                  11.9   \n",
       "1060         3.0          6          AS6        X                  13.2   \n",
       "1061         3.2          6          AS6        X                  13.0   \n",
       "1062         3.0          6          AS6        X                  13.4   \n",
       "1063         3.2          6          AS6        X                  13.2   \n",
       "1064         3.0          6          AS6        X                  13.4   \n",
       "1065         3.2          6          AS6        X                  12.9   \n",
       "1066         3.2          6          AS6        X                  14.9   \n",
       "\n",
       "      FUELCONSUMPTION_HWY  FUELCONSUMPTION_COMB  FUELCONSUMPTION_COMB_MPG  \\\n",
       "0                     6.7                   8.5                        33   \n",
       "1                     7.7                   9.6                        29   \n",
       "2                     5.8                   5.9                        48   \n",
       "3                     9.1                  11.1                        25   \n",
       "4                     8.7                  10.6                        27   \n",
       "5                     7.7                  10.0                        28   \n",
       "6                     8.1                  10.1                        28   \n",
       "7                     9.0                  11.1                        25   \n",
       "8                     9.5                  11.6                        24   \n",
       "9                     7.5                   9.2                        31   \n",
       "10                    8.1                   9.8                        29   \n",
       "11                    8.3                  10.4                        27   \n",
       "12                   12.6                  15.6                        18   \n",
       "13                   12.6                  15.6                        18   \n",
       "14                   11.3                  14.7                        19   \n",
       "15                   12.2                  15.4                        18   \n",
       "16                   11.3                  14.7                        19   \n",
       "17                   12.2                  15.4                        18   \n",
       "18                   12.6                  15.6                        18   \n",
       "19                    7.4                   8.8                        32   \n",
       "20                    8.1                  10.0                        28   \n",
       "21                    7.5                   9.3                        30   \n",
       "22                    8.1                  10.0                        28   \n",
       "23                    8.1                  10.0                        28   \n",
       "24                    7.5                   9.3                        30   \n",
       "25                    8.1                  10.2                        28   \n",
       "26                    8.6                  10.9                        26   \n",
       "27                    6.4                   8.3                        34   \n",
       "28                    8.8                  11.2                        25   \n",
       "29                    6.4                   8.3                        34   \n",
       "...                   ...                   ...                       ...   \n",
       "1037                  7.2                   9.0                        31   \n",
       "1038                  7.5                   9.0                        31   \n",
       "1039                  7.4                   9.2                        31   \n",
       "1040                  5.7                   6.9                        41   \n",
       "1041                  5.6                   6.9                        41   \n",
       "1042                  5.2                   5.4                        52   \n",
       "1043                  6.9                   8.6                        33   \n",
       "1044                  6.9                   8.6                        33   \n",
       "1045                  8.0                   9.7                        29   \n",
       "1046                  7.8                   9.8                        29   \n",
       "1047                  8.8                  10.8                        26   \n",
       "1048                  5.9                   7.1                        40   \n",
       "1049                  5.4                   6.8                        42   \n",
       "1050                  9.5                  12.1                        23   \n",
       "1051                  9.5                  10.7                        26   \n",
       "1052                  9.2                  11.6                        24   \n",
       "1053                  9.4                  10.7                        26   \n",
       "1054                 10.3                  12.2                        23   \n",
       "1055                  8.0                  10.4                        27   \n",
       "1056                  7.8                   9.7                        29   \n",
       "1057                  8.3                  10.1                        28   \n",
       "1058                  9.5                  11.5                        25   \n",
       "1059                  8.1                  10.2                        28   \n",
       "1060                  9.5                  11.5                        25   \n",
       "1061                  8.9                  11.2                        25   \n",
       "1062                  9.8                  11.8                        24   \n",
       "1063                  9.5                  11.5                        25   \n",
       "1064                  9.8                  11.8                        24   \n",
       "1065                  9.3                  11.3                        25   \n",
       "1066                 10.2                  12.8                        22   \n",
       "\n",
       "      CO2EMISSIONS  \n",
       "0              196  \n",
       "1              221  \n",
       "2              136  \n",
       "3              255  \n",
       "4              244  \n",
       "5              230  \n",
       "6              232  \n",
       "7              255  \n",
       "8              267  \n",
       "9              212  \n",
       "10             225  \n",
       "11             239  \n",
       "12             359  \n",
       "13             359  \n",
       "14             338  \n",
       "15             354  \n",
       "16             338  \n",
       "17             354  \n",
       "18             359  \n",
       "19             202  \n",
       "20             230  \n",
       "21             214  \n",
       "22             230  \n",
       "23             230  \n",
       "24             214  \n",
       "25             235  \n",
       "26             251  \n",
       "27             224  \n",
       "28             258  \n",
       "29             224  \n",
       "...            ...  \n",
       "1037           207  \n",
       "1038           207  \n",
       "1039           212  \n",
       "1040           186  \n",
       "1041           186  \n",
       "1042           124  \n",
       "1043           198  \n",
       "1044           198  \n",
       "1045           223  \n",
       "1046           225  \n",
       "1047           248  \n",
       "1048           192  \n",
       "1049           184  \n",
       "1050           278  \n",
       "1051           246  \n",
       "1052           267  \n",
       "1053           246  \n",
       "1054           281  \n",
       "1055           281  \n",
       "1056           223  \n",
       "1057           232  \n",
       "1058           264  \n",
       "1059           235  \n",
       "1060           264  \n",
       "1061           258  \n",
       "1062           271  \n",
       "1063           264  \n",
       "1064           271  \n",
       "1065           260  \n",
       "1066           294  \n",
       "\n",
       "[1067 rows x 13 columns]>"
      ]
     },
     "execution_count": 6,
     "metadata": {},
     "output_type": "execute_result"
    }
   ],
   "source": [
    "df = pd.read_csv(\"FuelConsumption.csv\")\n",
    "\n",
    "# take a look at the dataset\n",
    "df.head\n",
    "\n"
   ]
  },
  {
   "cell_type": "markdown",
   "metadata": {
    "button": false,
    "deletable": true,
    "new_sheet": false,
    "run_control": {
     "read_only": false
    }
   },
   "source": [
    "### Data Exploration\n",
    "Lets first have a descriptive exploration on our data."
   ]
  },
  {
   "cell_type": "code",
   "execution_count": 7,
   "metadata": {
    "button": false,
    "collapsed": true,
    "deletable": true,
    "new_sheet": false,
    "run_control": {
     "read_only": false
    }
   },
   "outputs": [
    {
     "data": {
      "text/html": [
       "<div>\n",
       "<style scoped>\n",
       "    .dataframe tbody tr th:only-of-type {\n",
       "        vertical-align: middle;\n",
       "    }\n",
       "\n",
       "    .dataframe tbody tr th {\n",
       "        vertical-align: top;\n",
       "    }\n",
       "\n",
       "    .dataframe thead th {\n",
       "        text-align: right;\n",
       "    }\n",
       "</style>\n",
       "<table border=\"1\" class=\"dataframe\">\n",
       "  <thead>\n",
       "    <tr style=\"text-align: right;\">\n",
       "      <th></th>\n",
       "      <th>MODELYEAR</th>\n",
       "      <th>ENGINESIZE</th>\n",
       "      <th>CYLINDERS</th>\n",
       "      <th>FUELCONSUMPTION_CITY</th>\n",
       "      <th>FUELCONSUMPTION_HWY</th>\n",
       "      <th>FUELCONSUMPTION_COMB</th>\n",
       "      <th>FUELCONSUMPTION_COMB_MPG</th>\n",
       "      <th>CO2EMISSIONS</th>\n",
       "    </tr>\n",
       "  </thead>\n",
       "  <tbody>\n",
       "    <tr>\n",
       "      <th>count</th>\n",
       "      <td>1067.0</td>\n",
       "      <td>1067.000000</td>\n",
       "      <td>1067.000000</td>\n",
       "      <td>1067.000000</td>\n",
       "      <td>1067.000000</td>\n",
       "      <td>1067.000000</td>\n",
       "      <td>1067.000000</td>\n",
       "      <td>1067.000000</td>\n",
       "    </tr>\n",
       "    <tr>\n",
       "      <th>mean</th>\n",
       "      <td>2014.0</td>\n",
       "      <td>3.346298</td>\n",
       "      <td>5.794752</td>\n",
       "      <td>13.296532</td>\n",
       "      <td>9.474602</td>\n",
       "      <td>11.580881</td>\n",
       "      <td>26.441425</td>\n",
       "      <td>256.228679</td>\n",
       "    </tr>\n",
       "    <tr>\n",
       "      <th>std</th>\n",
       "      <td>0.0</td>\n",
       "      <td>1.415895</td>\n",
       "      <td>1.797447</td>\n",
       "      <td>4.101253</td>\n",
       "      <td>2.794510</td>\n",
       "      <td>3.485595</td>\n",
       "      <td>7.468702</td>\n",
       "      <td>63.372304</td>\n",
       "    </tr>\n",
       "    <tr>\n",
       "      <th>min</th>\n",
       "      <td>2014.0</td>\n",
       "      <td>1.000000</td>\n",
       "      <td>3.000000</td>\n",
       "      <td>4.600000</td>\n",
       "      <td>4.900000</td>\n",
       "      <td>4.700000</td>\n",
       "      <td>11.000000</td>\n",
       "      <td>108.000000</td>\n",
       "    </tr>\n",
       "    <tr>\n",
       "      <th>25%</th>\n",
       "      <td>2014.0</td>\n",
       "      <td>2.000000</td>\n",
       "      <td>4.000000</td>\n",
       "      <td>10.250000</td>\n",
       "      <td>7.500000</td>\n",
       "      <td>9.000000</td>\n",
       "      <td>21.000000</td>\n",
       "      <td>207.000000</td>\n",
       "    </tr>\n",
       "    <tr>\n",
       "      <th>50%</th>\n",
       "      <td>2014.0</td>\n",
       "      <td>3.400000</td>\n",
       "      <td>6.000000</td>\n",
       "      <td>12.600000</td>\n",
       "      <td>8.800000</td>\n",
       "      <td>10.900000</td>\n",
       "      <td>26.000000</td>\n",
       "      <td>251.000000</td>\n",
       "    </tr>\n",
       "    <tr>\n",
       "      <th>75%</th>\n",
       "      <td>2014.0</td>\n",
       "      <td>4.300000</td>\n",
       "      <td>8.000000</td>\n",
       "      <td>15.550000</td>\n",
       "      <td>10.850000</td>\n",
       "      <td>13.350000</td>\n",
       "      <td>31.000000</td>\n",
       "      <td>294.000000</td>\n",
       "    </tr>\n",
       "    <tr>\n",
       "      <th>max</th>\n",
       "      <td>2014.0</td>\n",
       "      <td>8.400000</td>\n",
       "      <td>12.000000</td>\n",
       "      <td>30.200000</td>\n",
       "      <td>20.500000</td>\n",
       "      <td>25.800000</td>\n",
       "      <td>60.000000</td>\n",
       "      <td>488.000000</td>\n",
       "    </tr>\n",
       "  </tbody>\n",
       "</table>\n",
       "</div>"
      ],
      "text/plain": [
       "       MODELYEAR   ENGINESIZE    CYLINDERS  FUELCONSUMPTION_CITY  \\\n",
       "count     1067.0  1067.000000  1067.000000           1067.000000   \n",
       "mean      2014.0     3.346298     5.794752             13.296532   \n",
       "std          0.0     1.415895     1.797447              4.101253   \n",
       "min       2014.0     1.000000     3.000000              4.600000   \n",
       "25%       2014.0     2.000000     4.000000             10.250000   \n",
       "50%       2014.0     3.400000     6.000000             12.600000   \n",
       "75%       2014.0     4.300000     8.000000             15.550000   \n",
       "max       2014.0     8.400000    12.000000             30.200000   \n",
       "\n",
       "       FUELCONSUMPTION_HWY  FUELCONSUMPTION_COMB  FUELCONSUMPTION_COMB_MPG  \\\n",
       "count          1067.000000           1067.000000               1067.000000   \n",
       "mean              9.474602             11.580881                 26.441425   \n",
       "std               2.794510              3.485595                  7.468702   \n",
       "min               4.900000              4.700000                 11.000000   \n",
       "25%               7.500000              9.000000                 21.000000   \n",
       "50%               8.800000             10.900000                 26.000000   \n",
       "75%              10.850000             13.350000                 31.000000   \n",
       "max              20.500000             25.800000                 60.000000   \n",
       "\n",
       "       CO2EMISSIONS  \n",
       "count   1067.000000  \n",
       "mean     256.228679  \n",
       "std       63.372304  \n",
       "min      108.000000  \n",
       "25%      207.000000  \n",
       "50%      251.000000  \n",
       "75%      294.000000  \n",
       "max      488.000000  "
      ]
     },
     "execution_count": 7,
     "metadata": {},
     "output_type": "execute_result"
    }
   ],
   "source": [
    "# summarize the data\n",
    "df.describe()"
   ]
  },
  {
   "cell_type": "markdown",
   "metadata": {},
   "source": [
    "Lets select some features to explore more."
   ]
  },
  {
   "cell_type": "code",
   "execution_count": 8,
   "metadata": {
    "button": false,
    "collapsed": true,
    "deletable": true,
    "new_sheet": false,
    "run_control": {
     "read_only": false
    }
   },
   "outputs": [
    {
     "data": {
      "text/html": [
       "<div>\n",
       "<style scoped>\n",
       "    .dataframe tbody tr th:only-of-type {\n",
       "        vertical-align: middle;\n",
       "    }\n",
       "\n",
       "    .dataframe tbody tr th {\n",
       "        vertical-align: top;\n",
       "    }\n",
       "\n",
       "    .dataframe thead th {\n",
       "        text-align: right;\n",
       "    }\n",
       "</style>\n",
       "<table border=\"1\" class=\"dataframe\">\n",
       "  <thead>\n",
       "    <tr style=\"text-align: right;\">\n",
       "      <th></th>\n",
       "      <th>ENGINESIZE</th>\n",
       "      <th>CYLINDERS</th>\n",
       "      <th>FUELCONSUMPTION_COMB</th>\n",
       "      <th>CO2EMISSIONS</th>\n",
       "    </tr>\n",
       "  </thead>\n",
       "  <tbody>\n",
       "    <tr>\n",
       "      <th>0</th>\n",
       "      <td>2.0</td>\n",
       "      <td>4</td>\n",
       "      <td>8.5</td>\n",
       "      <td>196</td>\n",
       "    </tr>\n",
       "    <tr>\n",
       "      <th>1</th>\n",
       "      <td>2.4</td>\n",
       "      <td>4</td>\n",
       "      <td>9.6</td>\n",
       "      <td>221</td>\n",
       "    </tr>\n",
       "    <tr>\n",
       "      <th>2</th>\n",
       "      <td>1.5</td>\n",
       "      <td>4</td>\n",
       "      <td>5.9</td>\n",
       "      <td>136</td>\n",
       "    </tr>\n",
       "    <tr>\n",
       "      <th>3</th>\n",
       "      <td>3.5</td>\n",
       "      <td>6</td>\n",
       "      <td>11.1</td>\n",
       "      <td>255</td>\n",
       "    </tr>\n",
       "    <tr>\n",
       "      <th>4</th>\n",
       "      <td>3.5</td>\n",
       "      <td>6</td>\n",
       "      <td>10.6</td>\n",
       "      <td>244</td>\n",
       "    </tr>\n",
       "    <tr>\n",
       "      <th>5</th>\n",
       "      <td>3.5</td>\n",
       "      <td>6</td>\n",
       "      <td>10.0</td>\n",
       "      <td>230</td>\n",
       "    </tr>\n",
       "    <tr>\n",
       "      <th>6</th>\n",
       "      <td>3.5</td>\n",
       "      <td>6</td>\n",
       "      <td>10.1</td>\n",
       "      <td>232</td>\n",
       "    </tr>\n",
       "    <tr>\n",
       "      <th>7</th>\n",
       "      <td>3.7</td>\n",
       "      <td>6</td>\n",
       "      <td>11.1</td>\n",
       "      <td>255</td>\n",
       "    </tr>\n",
       "    <tr>\n",
       "      <th>8</th>\n",
       "      <td>3.7</td>\n",
       "      <td>6</td>\n",
       "      <td>11.6</td>\n",
       "      <td>267</td>\n",
       "    </tr>\n",
       "  </tbody>\n",
       "</table>\n",
       "</div>"
      ],
      "text/plain": [
       "   ENGINESIZE  CYLINDERS  FUELCONSUMPTION_COMB  CO2EMISSIONS\n",
       "0         2.0          4                   8.5           196\n",
       "1         2.4          4                   9.6           221\n",
       "2         1.5          4                   5.9           136\n",
       "3         3.5          6                  11.1           255\n",
       "4         3.5          6                  10.6           244\n",
       "5         3.5          6                  10.0           230\n",
       "6         3.5          6                  10.1           232\n",
       "7         3.7          6                  11.1           255\n",
       "8         3.7          6                  11.6           267"
      ]
     },
     "execution_count": 8,
     "metadata": {},
     "output_type": "execute_result"
    }
   ],
   "source": [
    "cdf = df[['ENGINESIZE','CYLINDERS','FUELCONSUMPTION_COMB','CO2EMISSIONS']]\n",
    "cdf.head(9)"
   ]
  },
  {
   "cell_type": "markdown",
   "metadata": {},
   "source": [
    "we can plot each of these fearues:"
   ]
  },
  {
   "cell_type": "code",
   "execution_count": 10,
   "metadata": {
    "button": false,
    "collapsed": true,
    "deletable": true,
    "new_sheet": false,
    "run_control": {
     "read_only": false
    }
   },
   "outputs": [
    {
     "data": {
      "image/png": "[encoded data removed]",
      "text/plain": [
       "<Figure size 432x288 with 4 Axes>"
      ]
     },
     "metadata": {
      "needs_background": "light"
     },
     "output_type": "display_data"
    }
   ],
   "source": [
    "viz = cdf[['CYLINDERS','ENGINESIZE','CO2EMISSIONS','FUELCONSUMPTION_COMB']]\n",
    "viz.hist()\n",
    "plt.show()"
   ]
  },
  {
   "cell_type": "markdown",
   "metadata": {},
   "source": [
    "Now, lets plot each of these features vs the Emission, to see how linear is their relation:"
   ]
  },
  {
   "cell_type": "code",
   "execution_count": 11,
   "metadata": {
    "button": false,
    "collapsed": true,
    "deletable": true,
    "new_sheet": false,
    "run_control": {
     "read_only": false
    }
   },
   "outputs": [
    {
     "data": {
      "image/png": "[encoded data removed]",
      "text/plain": [
       "<Figure size 432x288 with 1 Axes>"
      ]
     },
     "metadata": {
      "needs_background": "light"
     },
     "output_type": "display_data"
    }
   ],
   "source": [
    "plt.scatter(cdf.FUELCONSUMPTION_COMB, cdf.CO2EMISSIONS,  color='blue')\n",
    "plt.xlabel(\"FUELCONSUMPTION_COMB\")\n",
    "plt.ylabel(\"Emission\")\n",
    "plt.show()"
   ]
  },
  {
   "cell_type": "code",
   "execution_count": 12,
   "metadata": {
    "button": false,
    "collapsed": true,
    "deletable": true,
    "new_sheet": false,
    "run_control": {
     "read_only": false
    },
    "scrolled": true
   },
   "outputs": [
    {
     "data": {
      "image/png": "[encoded data removed]",
      "text/plain": [
       "<Figure size 432x288 with 1 Axes>"
      ]
     },
     "metadata": {
      "needs_background": "light"
     },
     "output_type": "display_data"
    }
   ],
   "source": [
    "plt.scatter(cdf.ENGINESIZE, cdf.CO2EMISSIONS,  color='blue')\n",
    "plt.xlabel(\"Engine size\")\n",
    "plt.ylabel(\"Emission\")\n",
    "plt.show()"
   ]
  },
  {
   "cell_type": "markdown",
   "metadata": {},
   "source": [
    "## Practice\n",
    "plot __CYLINDER__ vs the Emission, to see how linear is their relation:"
   ]
  },
  {
   "cell_type": "code",
   "execution_count": 13,
   "metadata": {
    "button": false,
    "collapsed": true,
    "deletable": true,
    "new_sheet": false,
    "run_control": {
     "read_only": false
    }
   },
   "outputs": [
    {
     "data": {
      "image/png": "[encoded data removed]",
      "text/plain": [
       "<Figure size 432x288 with 1 Axes>"
      ]
     },
     "metadata": {
      "needs_background": "light"
     },
     "output_type": "display_data"
    }
   ],
   "source": [
    "plt.scatter(cdf.CYLINDERS, cdf.CO2EMISSIONS,  color='blue')\n",
    "plt.xlabel(\"CYLINDERS\")\n",
    "plt.ylabel(\"Emission\")\n",
    "plt.show()\n",
    "\n"
   ]
  },
  {
   "cell_type": "markdown",
   "metadata": {},
   "source": [
    "Double-click __here__ for the solution.\n",
    "\n",
    "<!-- Your answer is below:\n",
    "    \n",
    "plt.scatter(cdf.CYLINDERS, cdf.CO2EMISSIONS, color='blue')\n",
    "plt.xlabel(\"Cylinders\")\n",
    "plt.ylabel(\"Emission\")\n",
    "plt.show()\n",
    "\n",
    "-->"
   ]
  },
  {
   "cell_type": "markdown",
   "metadata": {
    "button": false,
    "deletable": true,
    "new_sheet": false,
    "run_control": {
     "read_only": false
    }
   },
   "source": [
    "#### Creating train and test dataset\n",
    "Train/Test Split involves splitting the dataset into training and testing sets respectively, which are mutually exclusive. After which, you train with the training set and test with the testing set. \n",
    "This will provide a more accurate evaluation on out-of-sample accuracy because the testing dataset is not part of the dataset that have been used to train the data. It is more realistic for real world problems.\n",
    "\n",
    "This means that we know the outcome of each data point in this dataset, making it great to test with! And since this data has not been used to train the model, the model has no knowledge of the outcome of these data points. So, in essence, it is truly an out-of-sample testing.\n",
    "\n",
    "Lets split our dataset into train and test sets, 80% of the entire data for training, and the 20% for testing. We create a mask to select random rows using __np.random.rand()__ function: "
   ]
  },
  {
   "cell_type": "code",
   "execution_count": 29,
   "metadata": {
    "button": false,
    "collapsed": true,
    "deletable": true,
    "new_sheet": false,
    "run_control": {
     "read_only": false
    }
   },
   "outputs": [],
   "source": [
    "msk = np.random.rand(len(df)) < 0.8\n",
    "train = cdf[msk]\n",
    "test = cdf[~msk] #como complemento"
   ]
  },
  {
   "cell_type": "markdown",
   "metadata": {
    "button": false,
    "deletable": true,
    "new_sheet": false,
    "run_control": {
     "read_only": false
    }
   },
   "source": [
    "### Simple Regression Model\n",
    "Linear Regression fits a linear model with coefficients B = (B1, ..., Bn) to minimize the 'residual sum of squares' between the independent x in the dataset, and the dependent y by the linear approximation. "
   ]
  },
  {
   "cell_type": "markdown",
   "metadata": {
    "button": false,
    "deletable": true,
    "new_sheet": false,
    "run_control": {
     "read_only": false
    }
   },
   "source": [
    "#### Train data distribution"
   ]
  },
  {
   "cell_type": "code",
   "execution_count": 30,
   "metadata": {
    "button": false,
    "collapsed": true,
    "deletable": true,
    "new_sheet": false,
    "run_control": {
     "read_only": false
    }
   },
   "outputs": [
    {
     "data": {
      "image/png": "[encoded data removed]",
      "text/plain": [
       "<Figure size 432x288 with 1 Axes>"
      ]
     },
     "metadata": {
      "needs_background": "light"
     },
     "output_type": "display_data"
    }
   ],
   "source": [
    "plt.scatter(train.ENGINESIZE, train.CO2EMISSIONS,  color='blue')\n",
    "plt.xlabel(\"Engine size\")\n",
    "plt.ylabel(\"Emission\")\n",
    "plt.show()"
   ]
  },
  {
   "cell_type": "markdown",
   "metadata": {
    "button": false,
    "deletable": true,
    "new_sheet": false,
    "run_control": {
     "read_only": false
    }
   },
   "source": [
    "#### Modeling\n",
    "Using sklearn package to model data."
   ]
  },
  {
   "cell_type": "code",
   "execution_count": 33,
   "metadata": {
    "button": false,
    "collapsed": true,
    "deletable": true,
    "new_sheet": false,
    "run_control": {
     "read_only": false
    }
   },
   "outputs": [
    {
     "name": "stdout",
     "output_type": "stream",
     "text": [
      "Coefficients:  [[38.91080959]]\n",
      "Intercept:  [125.74216403]\n"
     ]
    }
   ],
   "source": [
    "from sklearn import linear_model\n",
    "regr = linear_model.LinearRegression()\n",
    "train_x = np.asanyarray(train[['ENGINESIZE']])\n",
    "train_y = np.asanyarray(train[['CO2EMISSIONS']])\n",
    "regr.fit (train_x, train_y)\n",
    "# The coefficients\n",
    "print ('Coefficients: ', regr.coef_)\n",
    "print ('Intercept: ',regr.intercept_)"
   ]
  },
  {
   "cell_type": "markdown",
   "metadata": {},
   "source": [
    "As mentioned before, __Coefficient__ and __Intercept__ in the simple linear regression, are the parameters of the fit line. \n",
    "Given that it is a simple linear regression, with only 2 parameters, and knowing that the parameters are the intercept and slope of the line, sklearn can estimate them directly from our data. \n",
    "Notice that all of the data must be available to traverse and calculate the parameters.\n"
   ]
  },
  {
   "cell_type": "markdown",
   "metadata": {
    "button": false,
    "deletable": true,
    "new_sheet": false,
    "run_control": {
     "read_only": false
    }
   },
   "source": [
    "#### Plot outputs"
   ]
  },
  {
   "cell_type": "markdown",
   "metadata": {},
   "source": [
    "we can plot the fit line over the data:"
   ]
  },
  {
   "cell_type": "code",
   "execution_count": 34,
   "metadata": {
    "button": false,
    "collapsed": true,
    "deletable": true,
    "new_sheet": false,
    "run_control": {
     "read_only": false
    }
   },
   "outputs": [
    {
     "data": {
      "text/plain": [
       "Text(0,0.5,'Emission')"
      ]
     },
     "execution_count": 34,
     "metadata": {},
     "output_type": "execute_result"
    },
    {
     "data": {
      "image/png": "[encoded data removed]",
      "text/plain": [
       "<Figure size 432x288 with 1 Axes>"
      ]
     },
     "metadata": {
      "needs_background": "light"
     },
     "output_type": "display_data"
    }
   ],
   "source": [
    "plt.scatter(train.ENGINESIZE, train.CO2EMISSIONS,  color='blue')\n",
    "plt.plot(train_x, regr.coef_[0][0]*train_x + regr.intercept_[0], '-r')\n",
    "plt.xlabel(\"Engine size\")\n",
    "plt.ylabel(\"Emission\")"
   ]
  },
  {
   "cell_type": "markdown",
   "metadata": {
    "button": false,
    "deletable": true,
    "new_sheet": false,
    "run_control": {
     "read_only": false
    }
   },
   "source": [
    "#### Evaluation\n",
    "we compare the actual values and predicted values to calculate the accuracy of a regression model. Evaluation metrics provide a key role in the development of a model, as it provides insight to areas that require improvement.\n",
    "\n",
    "There are different model evaluation metrics, lets use MSE here to calculate the accuracy of our model based on the test set: \n",
    "    - Mean absolute error: It is the mean of the absolute value of the errors. This is the easiest of the metrics to understand since it’s just average error.\n",
    "    - Mean Squared Error (MSE): Mean Squared Error (MSE) is the mean of the squared error. It’s more popular than Mean absolute error because the focus is geared more towards large errors. This is due to the squared term exponentially increasing larger errors in comparison to smaller ones.\n",
    "    - Root Mean Squared Error (RMSE).\n",
    "    - R-squared is not error, but is a popular metric for accuracy of your model. It represents how close the data are to the fitted regression line. The higher the R-squared, the better the model fits your data. Best possible score is 1.0 and it can be negative (because the model can be arbitrarily worse).\n"
   ]
  },
  {
   "cell_type": "code",
   "execution_count": 41,
   "metadata": {
    "button": false,
    "collapsed": true,
    "deletable": true,
    "new_sheet": false,
    "run_control": {
     "read_only": false
    },
    "scrolled": true
   },
   "outputs": [
    {
     "name": "stdout",
     "output_type": "stream",
     "text": [
      "Mean absolute error: 22.49\n",
      "Residual sum of squares (MSE): 877.04\n",
      "R2-score: 0.72\n"
     ]
    }
   ],
   "source": [
    "from sklearn.metrics import r2_score\n",
    "\n",
    "test_x = np.asanyarray(test[['ENGINESIZE']])\n",
    "test_y = np.asanyarray(test[['CO2EMISSIONS']])\n",
    "test_y_ = regr.predict(test_x)\n",
    "\n",
    "print(\"Mean absolute error: %.2f\" % np.mean(np.absolute(test_y_ - test_y))) # %.2f %convierte .2puntos decimales fflotante\n",
    "print(\"Residual sum of squares (MSE): %.2f\" % np.mean((test_y_ - test_y) ** 2))\n",
    "print(\"R2-score: %.2f\" % r2_score(test_y_ , test_y) )"
   ]
  },
  {
   "cell_type": "markdown",
   "metadata": {
    "button": false,
    "deletable": true,
    "new_sheet": false,
    "run_control": {
     "read_only": false
    }
   },
   "source": [
    "## Want to learn more?\n",
    "\n",
    "IBM SPSS Modeler is a comprehensive analytics platform that has many machine learning algorithms. It has been designed to bring predictive intelligence to decisions made by individuals, by groups, by systems – by your enterprise as a whole. A free trial is available through this course, available here: [SPSS Modeler](http://cocl.us/ML0101EN-SPSSModeler).\n",
    "\n",
    "Also, you can use Watson Studio to run these notebooks faster with bigger datasets. Watson Studio is IBM's leading cloud solution for data scientists, built by data scientists. With Jupyter notebooks, RStudio, Apache Spark and popular libraries pre-packaged in the cloud, Watson Studio enables data scientists to collaborate on their projects without having to install anything. Join the fast-growing community of Watson Studio users today with a free account at [Watson Studio](https://cocl.us/ML0101EN_DSX)\n",
    "\n",
    "### Thanks for completing this lesson!\n",
    "\n",
    "Notebook created by: <a href = \"https://ca.linkedin.com/in/saeedaghabozorgi\">Saeed Aghabozorgi</a>\n",
    "\n",
    "<hr>\n",
    "Copyright &copy; 2018 [Cognitive Class](https://cocl.us/DX0108EN_CC). This notebook and its source code are released under the terms of the [MIT License](https://bigdatauniversity.com/mit-license/).​"
   ]
  },
  {
   "cell_type": "code",
   "execution_count": null,
   "metadata": {},
   "outputs": [],
   "source": []
  }
 ],
 "metadata": {
  "kernelspec": {
   "display_name": "Python 3",
   "language": "python",
   "name": "python3"
  },
  "language_info": {
   "codemirror_mode": {
    "name": "ipython",
    "version": 3
   },
   "file_extension": ".py",
   "mimetype": "text/x-python",
   "name": "python",
   "nbconvert_exporter": "python",
   "pygments_lexer": "ipython3",
   "version": "3.6.6"
  },
  "widgets": {
   "state": {},
   "version": "1.1.2"
  }
 },
 "nbformat": 4,
 "nbformat_minor": 2
}
